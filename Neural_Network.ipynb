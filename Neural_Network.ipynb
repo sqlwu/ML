{
  "nbformat": 4,
  "nbformat_minor": 0,
  "metadata": {
    "colab": {
      "name": "Neural Network.ipynb",
      "version": "0.3.2",
      "provenance": [],
      "collapsed_sections": [],
      "include_colab_link": true
    }
  },
  "cells": [
    {
      "cell_type": "markdown",
      "metadata": {
        "id": "view-in-github",
        "colab_type": "text"
      },
      "source": [
        "[View in Colaboratory](https://colab.research.google.com/github/sqlwu/ML/blob/master/Neural_Network.ipynb)"
      ]
    },
    {
      "metadata": {
        "id": "4EYBcPEHyBMk",
        "colab_type": "code",
        "colab": {
          "base_uri": "https://localhost:8080/",
          "height": 34
        },
        "outputId": "4c8e2ddd-c0d2-4e70-a609-93b8dbf82b1e"
      },
      "cell_type": "code",
      "source": [
        "# 導入函式庫\n",
        "import numpy as np  \n",
        "from keras.models import Sequential\n",
        "from keras.datasets import mnist\n",
        "from keras.layers import Dense, Dropout, Activation, Flatten\n",
        "from keras.utils import np_utils  # 用來後續將 label 標籤轉為 one-hot-encoding  \n",
        "from matplotlib import pyplot as plt"
      ],
      "execution_count": 1,
      "outputs": [
        {
          "output_type": "stream",
          "text": [
            "Using TensorFlow backend.\n"
          ],
          "name": "stderr"
        }
      ]
    },
    {
      "metadata": {
        "id": "5yH7a_WhyO2d",
        "colab_type": "code",
        "colab": {
          "base_uri": "https://localhost:8080/",
          "height": 67
        },
        "outputId": "7e359de1-84a9-4cc4-b355-7e442fefcea9"
      },
      "cell_type": "code",
      "source": [
        "# 載入 MNIST 資料庫的訓練資料，並自動分為『訓練組』及『測試組』\n",
        "(X_train, y_train), (X_test, y_test) = mnist.load_data()"
      ],
      "execution_count": 2,
      "outputs": [
        {
          "output_type": "stream",
          "text": [
            "Downloading data from https://s3.amazonaws.com/img-datasets/mnist.npz\n",
            "11493376/11490434 [==============================] - 3s 0us/step\n",
            "11501568/11490434 [==============================] - 3s 0us/step\n"
          ],
          "name": "stdout"
        }
      ]
    },
    {
      "metadata": {
        "id": "_6QmMn2-yReZ",
        "colab_type": "code",
        "colab": {}
      },
      "cell_type": "code",
      "source": [
        "# 建立簡單的線性執行的模型\n",
        "model = Sequential()\n",
        "# Add Input layer, 隱藏層(hidden layer) 有 256個輸出變數\n",
        "model.add(Dense(units=256, input_dim=784, kernel_initializer='normal', activation='relu')) \n",
        "# Add output layer\n",
        "model.add(Dense(units=10, kernel_initializer='normal', activation='softmax'))\n",
        "\n",
        "'''\n",
        "再依每一層(Keras 稱為 Dense)的特性及需求，指定 Activation Function，例如第16行，Input Layer至Hidden Layer，\n",
        "我們排除負值，採用『relu』， Hidden Layer 至 Output Layer 使用『softmax』，求取每一個數字(0~9)的預測機率。\n",
        "kernel_initializer='normal'，表示梯度下降求解的起始值，這裡選擇使用『常態分配』的亂數值，請參考 https://keras.io/initializers/ ，\n",
        "起始值選擇不佳，可能會影響求解的速度與答案，通常不要選太奇怪的值就好。\n",
        "'''"
      ],
      "execution_count": 0,
      "outputs": []
    },
    {
      "metadata": {
        "id": "USsiOpRCyV5S",
        "colab_type": "code",
        "colab": {}
      },
      "cell_type": "code",
      "source": [
        "# 編譯: 選擇損失函數、優化方法及成效衡量方式\n",
        "model.compile(loss='categorical_crossentropy', optimizer='adam', metrics=['accuracy']) \n",
        "\n",
        "# 將 training 的 label 進行 one-hot encoding，例如數字 7 經過 One-hot encoding 轉換後是 0000001000，即第7個值為 1\n",
        "y_TrainOneHot = np_utils.to_categorical(y_train) \n",
        "y_TestOneHot = np_utils.to_categorical(y_test) "
      ],
      "execution_count": 0,
      "outputs": []
    },
    {
      "metadata": {
        "id": "f5lO4u84yYV6",
        "colab_type": "code",
        "colab": {
          "base_uri": "https://localhost:8080/",
          "height": 370
        },
        "outputId": "c3cb52a7-f007-45c7-a821-90a310029ede"
      },
      "cell_type": "code",
      "source": [
        "# 將 training 的 input 資料轉為2維\n",
        "X_train_2D = X_train.reshape(60000, 28*28).astype('float32')  \n",
        "X_test_2D = X_test.reshape(10000, 28*28).astype('float32')  \n",
        "\n",
        "x_Train_norm = X_train_2D/255\n",
        "x_Test_norm = X_test_2D/255\n",
        "\n",
        "# 進行訓練, 訓練過程會存在 train_history 變數中\n",
        "train_history = model.fit(x=x_Train_norm, y=y_TrainOneHot, validation_split=0.2, epochs=10, batch_size=800, verbose=2)  "
      ],
      "execution_count": 5,
      "outputs": [
        {
          "output_type": "stream",
          "text": [
            "Train on 48000 samples, validate on 12000 samples\n",
            "Epoch 1/10\n",
            " - 1s - loss: 0.7898 - acc: 0.8069 - val_loss: 0.3282 - val_acc: 0.9096\n",
            "Epoch 2/10\n",
            " - 1s - loss: 0.3014 - acc: 0.9160 - val_loss: 0.2526 - val_acc: 0.9311\n",
            "Epoch 3/10\n",
            " - 1s - loss: 0.2391 - acc: 0.9332 - val_loss: 0.2130 - val_acc: 0.9413\n",
            "Epoch 4/10\n",
            " - 1s - loss: 0.1986 - acc: 0.9442 - val_loss: 0.1808 - val_acc: 0.9501\n",
            "Epoch 5/10\n",
            " - 1s - loss: 0.1671 - acc: 0.9534 - val_loss: 0.1619 - val_acc: 0.9553\n",
            "Epoch 6/10\n",
            " - 1s - loss: 0.1444 - acc: 0.9591 - val_loss: 0.1457 - val_acc: 0.9587\n",
            "Epoch 7/10\n",
            " - 1s - loss: 0.1254 - acc: 0.9655 - val_loss: 0.1350 - val_acc: 0.9609\n",
            "Epoch 8/10\n",
            " - 1s - loss: 0.1118 - acc: 0.9689 - val_loss: 0.1252 - val_acc: 0.9633\n",
            "Epoch 9/10\n",
            " - 1s - loss: 0.0991 - acc: 0.9729 - val_loss: 0.1209 - val_acc: 0.9655\n",
            "Epoch 10/10\n",
            " - 1s - loss: 0.0894 - acc: 0.9757 - val_loss: 0.1117 - val_acc: 0.9663\n"
          ],
          "name": "stdout"
        }
      ]
    },
    {
      "metadata": {
        "id": "HLWPYFN5yfA3",
        "colab_type": "code",
        "colab": {
          "base_uri": "https://localhost:8080/",
          "height": 67
        },
        "outputId": "44a83287-c2b1-42c8-a1ed-7adf3230683e"
      },
      "cell_type": "code",
      "source": [
        "# 顯示訓練成果(分數)\n",
        "scores = model.evaluate(x_Test_norm, y_TestOneHot)  \n",
        "print()  \n",
        "print(\"\\t[Info] Accuracy of testing data = {:2.1f}%\".format(scores[1]*100.0)) "
      ],
      "execution_count": 6,
      "outputs": [
        {
          "output_type": "stream",
          "text": [
            "10000/10000 [==============================] - 0s 44us/step\n",
            "()\n",
            "\t[Info] Accuracy of testing data = 97.0%\n"
          ],
          "name": "stdout"
        }
      ]
    },
    {
      "metadata": {
        "id": "m4s9TpH_yj0W",
        "colab_type": "code",
        "colab": {
          "base_uri": "https://localhost:8080/",
          "height": 34
        },
        "outputId": "b9749773-5cff-4dd3-b0c4-da9779a3ab27"
      },
      "cell_type": "code",
      "source": [
        "# 預測(prediction)\n",
        "X = x_Test_norm[0:10,:]\n",
        "predictions = model.predict_classes(X)\n",
        "# get prediction result\n",
        "print(predictions)"
      ],
      "execution_count": 7,
      "outputs": [
        {
          "output_type": "stream",
          "text": [
            "[7 2 1 0 4 1 4 9 6 9]\n"
          ],
          "name": "stdout"
        }
      ]
    },
    {
      "metadata": {
        "id": "X0-bIY3pypBn",
        "colab_type": "code",
        "colab": {
          "base_uri": "https://localhost:8080/",
          "height": 347
        },
        "outputId": "75e19cde-18c6-4434-f567-efc1cde8fe23"
      },
      "cell_type": "code",
      "source": [
        "# 顯示 第一筆訓練資料的圖形，確認是否正確\n",
        "plt.imshow(X_test[1])\n",
        "plt.show() "
      ],
      "execution_count": 9,
      "outputs": [
        {
          "output_type": "display_data",
          "data": {
            "image/png": "[encoded data removed]",
            "text/plain": [
              "<matplotlib.figure.Figure at 0x7fcaecca1c90>"
            ]
          },
          "metadata": {
            "tags": []
          }
        }
      ]
    },
    {
      "metadata": {
        "id": "HtPPoYA8yvjy",
        "colab_type": "code",
        "colab": {
          "base_uri": "https://localhost:8080/",
          "height": 376
        },
        "outputId": "14779457-5f74-4a8b-abd3-4107475ebd11"
      },
      "cell_type": "code",
      "source": [
        "plt.plot(train_history.history['loss'])  \n",
        "plt.plot(train_history.history['val_loss'])  \n",
        "plt.title('Train History')  \n",
        "plt.ylabel('loss')  \n",
        "plt.xlabel('Epoch')  \n",
        "plt.legend(['loss', 'val_loss'], loc='upper left')  \n",
        "plt.show() "
      ],
      "execution_count": 10,
      "outputs": [
        {
          "output_type": "display_data",
          "data": {
            "image/png": "[encoded data removed]",
            "text/plain": [
              "<matplotlib.figure.Figure at 0x7fcb0bd64f50>"
            ]
          },
          "metadata": {
            "tags": []
          }
        }
      ]
    }
  ]
}