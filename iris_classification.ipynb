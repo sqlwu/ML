{
  "nbformat": 4,
  "nbformat_minor": 0,
  "metadata": {
    "colab": {
      "name": "iris_classification.ipynb",
      "version": "0.3.2",
      "provenance": [],
      "include_colab_link": true
    },
    "kernelspec": {
      "name": "python3",
      "display_name": "Python 3"
    }
  },
  "cells": [
    {
      "cell_type": "markdown",
      "metadata": {
        "id": "view-in-github",
        "colab_type": "text"
      },
      "source": [
        "[View in Colaboratory](https://colab.research.google.com/github/sqlwu/ML/blob/master/iris_classification.ipynb)"
      ]
    },
    {
      "metadata": {
        "id": "t6YDzsnQAhfY",
        "colab_type": "text"
      },
      "cell_type": "markdown",
      "source": [
        "# Iris Classification"
      ]
    },
    {
      "metadata": {
        "id": "Ni1CHVU2juXX",
        "colab_type": "code",
        "colab": {}
      },
      "cell_type": "code",
      "source": [
        "from sklearn.datasets import load_iris\n",
        "import numpy as np\n",
        "import seaborn as sns"
      ],
      "execution_count": 0,
      "outputs": []
    },
    {
      "metadata": {
        "id": "xX_8Gul4kO5h",
        "colab_type": "code",
        "colab": {
          "base_uri": "https://localhost:8080/",
          "height": 34
        },
        "outputId": "f208d54d-5963-418d-916a-5b3454357b34"
      },
      "cell_type": "code",
      "source": [
        "iris = load_iris()\n",
        "print(iris.keys())"
      ],
      "execution_count": 39,
      "outputs": [
        {
          "output_type": "stream",
          "text": [
            "dict_keys(['data', 'target', 'target_names', 'DESCR', 'feature_names'])\n"
          ],
          "name": "stdout"
        }
      ]
    },
    {
      "metadata": {
        "id": "VMk8__pikf0I",
        "colab_type": "code",
        "colab": {
          "base_uri": "https://localhost:8080/",
          "height": 1088
        },
        "outputId": "104aa678-24f4-4900-93d0-1ca1e715f31d"
      },
      "cell_type": "code",
      "source": [
        "print(iris.DESCR)"
      ],
      "execution_count": 40,
      "outputs": [
        {
          "output_type": "stream",
          "text": [
            "Iris Plants Database\n",
            "====================\n",
            "\n",
            "Notes\n",
            "-----\n",
            "Data Set Characteristics:\n",
            "    :Number of Instances: 150 (50 in each of three classes)\n",
            "    :Number of Attributes: 4 numeric, predictive attributes and the class\n",
            "    :Attribute Information:\n",
            "        - sepal length in cm\n",
            "        - sepal width in cm\n",
            "        - petal length in cm\n",
            "        - petal width in cm\n",
            "        - class:\n",
            "                - Iris-Setosa\n",
            "                - Iris-Versicolour\n",
            "                - Iris-Virginica\n",
            "    :Summary Statistics:\n",
            "\n",
            "    ============== ==== ==== ======= ===== ====================\n",
            "                    Min  Max   Mean    SD   Class Correlation\n",
            "    ============== ==== ==== ======= ===== ====================\n",
            "    sepal length:   4.3  7.9   5.84   0.83    0.7826\n",
            "    sepal width:    2.0  4.4   3.05   0.43   -0.4194\n",
            "    petal length:   1.0  6.9   3.76   1.76    0.9490  (high!)\n",
            "    petal width:    0.1  2.5   1.20  0.76     0.9565  (high!)\n",
            "    ============== ==== ==== ======= ===== ====================\n",
            "\n",
            "    :Missing Attribute Values: None\n",
            "    :Class Distribution: 33.3% for each of 3 classes.\n",
            "    :Creator: R.A. Fisher\n",
            "    :Donor: Michael Marshall (MARSHALL%PLU@io.arc.nasa.gov)\n",
            "    :Date: July, 1988\n",
            "\n",
            "This is a copy of UCI ML iris datasets.\n",
            "http://archive.ics.uci.edu/ml/datasets/Iris\n",
            "\n",
            "The famous Iris database, first used by Sir R.A Fisher\n",
            "\n",
            "This is perhaps the best known database to be found in the\n",
            "pattern recognition literature.  Fisher's paper is a classic in the field and\n",
            "is referenced frequently to this day.  (See Duda & Hart, for example.)  The\n",
            "data set contains 3 classes of 50 instances each, where each class refers to a\n",
            "type of iris plant.  One class is linearly separable from the other 2; the\n",
            "latter are NOT linearly separable from each other.\n",
            "\n",
            "References\n",
            "----------\n",
            "   - Fisher,R.A. \"The use of multiple measurements in taxonomic problems\"\n",
            "     Annual Eugenics, 7, Part II, 179-188 (1936); also in \"Contributions to\n",
            "     Mathematical Statistics\" (John Wiley, NY, 1950).\n",
            "   - Duda,R.O., & Hart,P.E. (1973) Pattern Classification and Scene Analysis.\n",
            "     (Q327.D83) John Wiley & Sons.  ISBN 0-471-22361-1.  See page 218.\n",
            "   - Dasarathy, B.V. (1980) \"Nosing Around the Neighborhood: A New System\n",
            "     Structure and Classification Rule for Recognition in Partially Exposed\n",
            "     Environments\".  IEEE Transactions on Pattern Analysis and Machine\n",
            "     Intelligence, Vol. PAMI-2, No. 1, 67-71.\n",
            "   - Gates, G.W. (1972) \"The Reduced Nearest Neighbor Rule\".  IEEE Transactions\n",
            "     on Information Theory, May 1972, 431-433.\n",
            "   - See also: 1988 MLC Proceedings, 54-64.  Cheeseman et al\"s AUTOCLASS II\n",
            "     conceptual clustering system finds 3 classes in the data.\n",
            "   - Many, many more ...\n",
            "\n"
          ],
          "name": "stdout"
        }
      ]
    },
    {
      "metadata": {
        "id": "3-hlWEUSkyep",
        "colab_type": "code",
        "colab": {
          "base_uri": "https://localhost:8080/",
          "height": 2584
        },
        "outputId": "8762f9af-b98f-4d9d-bc99-82914a687f0f"
      },
      "cell_type": "code",
      "source": [
        "print(iris.data)\n",
        "print(iris.data.shape)"
      ],
      "execution_count": 41,
      "outputs": [
        {
          "output_type": "stream",
          "text": [
            "[[5.1 3.5 1.4 0.2]\n",
            " [4.9 3.  1.4 0.2]\n",
            " [4.7 3.2 1.3 0.2]\n",
            " [4.6 3.1 1.5 0.2]\n",
            " [5.  3.6 1.4 0.2]\n",
            " [5.4 3.9 1.7 0.4]\n",
            " [4.6 3.4 1.4 0.3]\n",
            " [5.  3.4 1.5 0.2]\n",
            " [4.4 2.9 1.4 0.2]\n",
            " [4.9 3.1 1.5 0.1]\n",
            " [5.4 3.7 1.5 0.2]\n",
            " [4.8 3.4 1.6 0.2]\n",
            " [4.8 3.  1.4 0.1]\n",
            " [4.3 3.  1.1 0.1]\n",
            " [5.8 4.  1.2 0.2]\n",
            " [5.7 4.4 1.5 0.4]\n",
            " [5.4 3.9 1.3 0.4]\n",
            " [5.1 3.5 1.4 0.3]\n",
            " [5.7 3.8 1.7 0.3]\n",
            " [5.1 3.8 1.5 0.3]\n",
            " [5.4 3.4 1.7 0.2]\n",
            " [5.1 3.7 1.5 0.4]\n",
            " [4.6 3.6 1.  0.2]\n",
            " [5.1 3.3 1.7 0.5]\n",
            " [4.8 3.4 1.9 0.2]\n",
            " [5.  3.  1.6 0.2]\n",
            " [5.  3.4 1.6 0.4]\n",
            " [5.2 3.5 1.5 0.2]\n",
            " [5.2 3.4 1.4 0.2]\n",
            " [4.7 3.2 1.6 0.2]\n",
            " [4.8 3.1 1.6 0.2]\n",
            " [5.4 3.4 1.5 0.4]\n",
            " [5.2 4.1 1.5 0.1]\n",
            " [5.5 4.2 1.4 0.2]\n",
            " [4.9 3.1 1.5 0.1]\n",
            " [5.  3.2 1.2 0.2]\n",
            " [5.5 3.5 1.3 0.2]\n",
            " [4.9 3.1 1.5 0.1]\n",
            " [4.4 3.  1.3 0.2]\n",
            " [5.1 3.4 1.5 0.2]\n",
            " [5.  3.5 1.3 0.3]\n",
            " [4.5 2.3 1.3 0.3]\n",
            " [4.4 3.2 1.3 0.2]\n",
            " [5.  3.5 1.6 0.6]\n",
            " [5.1 3.8 1.9 0.4]\n",
            " [4.8 3.  1.4 0.3]\n",
            " [5.1 3.8 1.6 0.2]\n",
            " [4.6 3.2 1.4 0.2]\n",
            " [5.3 3.7 1.5 0.2]\n",
            " [5.  3.3 1.4 0.2]\n",
            " [7.  3.2 4.7 1.4]\n",
            " [6.4 3.2 4.5 1.5]\n",
            " [6.9 3.1 4.9 1.5]\n",
            " [5.5 2.3 4.  1.3]\n",
            " [6.5 2.8 4.6 1.5]\n",
            " [5.7 2.8 4.5 1.3]\n",
            " [6.3 3.3 4.7 1.6]\n",
            " [4.9 2.4 3.3 1. ]\n",
            " [6.6 2.9 4.6 1.3]\n",
            " [5.2 2.7 3.9 1.4]\n",
            " [5.  2.  3.5 1. ]\n",
            " [5.9 3.  4.2 1.5]\n",
            " [6.  2.2 4.  1. ]\n",
            " [6.1 2.9 4.7 1.4]\n",
            " [5.6 2.9 3.6 1.3]\n",
            " [6.7 3.1 4.4 1.4]\n",
            " [5.6 3.  4.5 1.5]\n",
            " [5.8 2.7 4.1 1. ]\n",
            " [6.2 2.2 4.5 1.5]\n",
            " [5.6 2.5 3.9 1.1]\n",
            " [5.9 3.2 4.8 1.8]\n",
            " [6.1 2.8 4.  1.3]\n",
            " [6.3 2.5 4.9 1.5]\n",
            " [6.1 2.8 4.7 1.2]\n",
            " [6.4 2.9 4.3 1.3]\n",
            " [6.6 3.  4.4 1.4]\n",
            " [6.8 2.8 4.8 1.4]\n",
            " [6.7 3.  5.  1.7]\n",
            " [6.  2.9 4.5 1.5]\n",
            " [5.7 2.6 3.5 1. ]\n",
            " [5.5 2.4 3.8 1.1]\n",
            " [5.5 2.4 3.7 1. ]\n",
            " [5.8 2.7 3.9 1.2]\n",
            " [6.  2.7 5.1 1.6]\n",
            " [5.4 3.  4.5 1.5]\n",
            " [6.  3.4 4.5 1.6]\n",
            " [6.7 3.1 4.7 1.5]\n",
            " [6.3 2.3 4.4 1.3]\n",
            " [5.6 3.  4.1 1.3]\n",
            " [5.5 2.5 4.  1.3]\n",
            " [5.5 2.6 4.4 1.2]\n",
            " [6.1 3.  4.6 1.4]\n",
            " [5.8 2.6 4.  1.2]\n",
            " [5.  2.3 3.3 1. ]\n",
            " [5.6 2.7 4.2 1.3]\n",
            " [5.7 3.  4.2 1.2]\n",
            " [5.7 2.9 4.2 1.3]\n",
            " [6.2 2.9 4.3 1.3]\n",
            " [5.1 2.5 3.  1.1]\n",
            " [5.7 2.8 4.1 1.3]\n",
            " [6.3 3.3 6.  2.5]\n",
            " [5.8 2.7 5.1 1.9]\n",
            " [7.1 3.  5.9 2.1]\n",
            " [6.3 2.9 5.6 1.8]\n",
            " [6.5 3.  5.8 2.2]\n",
            " [7.6 3.  6.6 2.1]\n",
            " [4.9 2.5 4.5 1.7]\n",
            " [7.3 2.9 6.3 1.8]\n",
            " [6.7 2.5 5.8 1.8]\n",
            " [7.2 3.6 6.1 2.5]\n",
            " [6.5 3.2 5.1 2. ]\n",
            " [6.4 2.7 5.3 1.9]\n",
            " [6.8 3.  5.5 2.1]\n",
            " [5.7 2.5 5.  2. ]\n",
            " [5.8 2.8 5.1 2.4]\n",
            " [6.4 3.2 5.3 2.3]\n",
            " [6.5 3.  5.5 1.8]\n",
            " [7.7 3.8 6.7 2.2]\n",
            " [7.7 2.6 6.9 2.3]\n",
            " [6.  2.2 5.  1.5]\n",
            " [6.9 3.2 5.7 2.3]\n",
            " [5.6 2.8 4.9 2. ]\n",
            " [7.7 2.8 6.7 2. ]\n",
            " [6.3 2.7 4.9 1.8]\n",
            " [6.7 3.3 5.7 2.1]\n",
            " [7.2 3.2 6.  1.8]\n",
            " [6.2 2.8 4.8 1.8]\n",
            " [6.1 3.  4.9 1.8]\n",
            " [6.4 2.8 5.6 2.1]\n",
            " [7.2 3.  5.8 1.6]\n",
            " [7.4 2.8 6.1 1.9]\n",
            " [7.9 3.8 6.4 2. ]\n",
            " [6.4 2.8 5.6 2.2]\n",
            " [6.3 2.8 5.1 1.5]\n",
            " [6.1 2.6 5.6 1.4]\n",
            " [7.7 3.  6.1 2.3]\n",
            " [6.3 3.4 5.6 2.4]\n",
            " [6.4 3.1 5.5 1.8]\n",
            " [6.  3.  4.8 1.8]\n",
            " [6.9 3.1 5.4 2.1]\n",
            " [6.7 3.1 5.6 2.4]\n",
            " [6.9 3.1 5.1 2.3]\n",
            " [5.8 2.7 5.1 1.9]\n",
            " [6.8 3.2 5.9 2.3]\n",
            " [6.7 3.3 5.7 2.5]\n",
            " [6.7 3.  5.2 2.3]\n",
            " [6.3 2.5 5.  1.9]\n",
            " [6.5 3.  5.2 2. ]\n",
            " [6.2 3.4 5.4 2.3]\n",
            " [5.9 3.  5.1 1.8]]\n",
            "(150, 4)\n"
          ],
          "name": "stdout"
        }
      ]
    },
    {
      "metadata": {
        "id": "m3XXsRQB3ioC",
        "colab_type": "code",
        "colab": {
          "base_uri": "https://localhost:8080/",
          "height": 398
        },
        "outputId": "cc608921-7186-41d3-9f47-3d7ae76a5b13"
      },
      "cell_type": "code",
      "source": [
        "sns.boxplot(data=iris.data)"
      ],
      "execution_count": 42,
      "outputs": [
        {
          "output_type": "stream",
          "text": [
            "/usr/local/lib/python3.6/dist-packages/seaborn/categorical.py:454: FutureWarning: remove_na is deprecated and is a private function. Do not use.\n",
            "  box_data = remove_na(group_data)\n"
          ],
          "name": "stderr"
        },
        {
          "output_type": "execute_result",
          "data": {
            "text/plain": [
              "<matplotlib.axes._subplots.AxesSubplot at 0x7feaeb8f74a8>"
            ]
          },
          "metadata": {
            "tags": []
          },
          "execution_count": 42
        },
        {
          "output_type": "display_data",
          "data": {
            "image/png": "[encoded data removed]",
            "text/plain": [
              "<matplotlib.figure.Figure at 0x7feaeba16908>"
            ]
          },
          "metadata": {
            "tags": []
          }
        }
      ]
    },
    {
      "metadata": {
        "id": "kCTl3pmck3yr",
        "colab_type": "code",
        "colab": {
          "base_uri": "https://localhost:8080/",
          "height": 119
        },
        "outputId": "c5ca3b25-c886-4805-a0ea-908bfb981df8"
      },
      "cell_type": "code",
      "source": [
        "print(iris.target)\n",
        "print(iris.target.shape)"
      ],
      "execution_count": 43,
      "outputs": [
        {
          "output_type": "stream",
          "text": [
            "[0 0 0 0 0 0 0 0 0 0 0 0 0 0 0 0 0 0 0 0 0 0 0 0 0 0 0 0 0 0 0 0 0 0 0 0 0\n",
            " 0 0 0 0 0 0 0 0 0 0 0 0 0 1 1 1 1 1 1 1 1 1 1 1 1 1 1 1 1 1 1 1 1 1 1 1 1\n",
            " 1 1 1 1 1 1 1 1 1 1 1 1 1 1 1 1 1 1 1 1 1 1 1 1 1 1 2 2 2 2 2 2 2 2 2 2 2\n",
            " 2 2 2 2 2 2 2 2 2 2 2 2 2 2 2 2 2 2 2 2 2 2 2 2 2 2 2 2 2 2 2 2 2 2 2 2 2\n",
            " 2 2]\n",
            "(150,)\n"
          ],
          "name": "stdout"
        }
      ]
    },
    {
      "metadata": {
        "id": "_mekXQSrdart",
        "colab_type": "text"
      },
      "cell_type": "markdown",
      "source": [
        "#EDA\n"
      ]
    },
    {
      "metadata": {
        "id": "cTRRyIadddt9",
        "colab_type": "code",
        "colab": {
          "base_uri": "https://localhost:8080/",
          "height": 364
        },
        "outputId": "08824fb9-135a-413d-c53c-e4d5f1578896"
      },
      "cell_type": "code",
      "source": [
        "import pandas as pd\n",
        "import matplotlib.pyplot as plt\n",
        "from sklearn.datasets import load_iris\n",
        "\n",
        "iris = load_iris()\n",
        "df = pd.DataFrame(iris.data,columns = iris.feature_names)\n",
        "df['Species'] = iris.target\n",
        "\n",
        "plt.scatter(df['sepal length (cm)'],df['sepal width (cm)'],c=df['Species'],cmap='Accent')"
      ],
      "execution_count": 44,
      "outputs": [
        {
          "output_type": "execute_result",
          "data": {
            "text/plain": [
              "<matplotlib.collections.PathCollection at 0x7feaeb860ba8>"
            ]
          },
          "metadata": {
            "tags": []
          },
          "execution_count": 44
        },
        {
          "output_type": "display_data",
          "data": {
            "image/png": "[encoded data removed]",
            "text/plain": [
              "<matplotlib.figure.Figure at 0x7feaeba16a90>"
            ]
          },
          "metadata": {
            "tags": []
          }
        }
      ]
    },
    {
      "metadata": {
        "id": "69Hn5uBXVLHB",
        "colab_type": "code",
        "colab": {
          "base_uri": "https://localhost:8080/",
          "height": 204
        },
        "outputId": "bc28397d-60f4-45c6-e74c-92cbd47486f0"
      },
      "cell_type": "code",
      "source": [
        "df.head()"
      ],
      "execution_count": 45,
      "outputs": [
        {
          "output_type": "execute_result",
          "data": {
            "text/html": [
              "<div>\n",
              "<style scoped>\n",
              "    .dataframe tbody tr th:only-of-type {\n",
              "        vertical-align: middle;\n",
              "    }\n",
              "\n",
              "    .dataframe tbody tr th {\n",
              "        vertical-align: top;\n",
              "    }\n",
              "\n",
              "    .dataframe thead th {\n",
              "        text-align: right;\n",
              "    }\n",
              "</style>\n",
              "<table border=\"1\" class=\"dataframe\">\n",
              "  <thead>\n",
              "    <tr style=\"text-align: right;\">\n",
              "      <th></th>\n",
              "      <th>sepal length (cm)</th>\n",
              "      <th>sepal width (cm)</th>\n",
              "      <th>petal length (cm)</th>\n",
              "      <th>petal width (cm)</th>\n",
              "      <th>Species</th>\n",
              "    </tr>\n",
              "  </thead>\n",
              "  <tbody>\n",
              "    <tr>\n",
              "      <th>0</th>\n",
              "      <td>5.1</td>\n",
              "      <td>3.5</td>\n",
              "      <td>1.4</td>\n",
              "      <td>0.2</td>\n",
              "      <td>0</td>\n",
              "    </tr>\n",
              "    <tr>\n",
              "      <th>1</th>\n",
              "      <td>4.9</td>\n",
              "      <td>3.0</td>\n",
              "      <td>1.4</td>\n",
              "      <td>0.2</td>\n",
              "      <td>0</td>\n",
              "    </tr>\n",
              "    <tr>\n",
              "      <th>2</th>\n",
              "      <td>4.7</td>\n",
              "      <td>3.2</td>\n",
              "      <td>1.3</td>\n",
              "      <td>0.2</td>\n",
              "      <td>0</td>\n",
              "    </tr>\n",
              "    <tr>\n",
              "      <th>3</th>\n",
              "      <td>4.6</td>\n",
              "      <td>3.1</td>\n",
              "      <td>1.5</td>\n",
              "      <td>0.2</td>\n",
              "      <td>0</td>\n",
              "    </tr>\n",
              "    <tr>\n",
              "      <th>4</th>\n",
              "      <td>5.0</td>\n",
              "      <td>3.6</td>\n",
              "      <td>1.4</td>\n",
              "      <td>0.2</td>\n",
              "      <td>0</td>\n",
              "    </tr>\n",
              "  </tbody>\n",
              "</table>\n",
              "</div>"
            ],
            "text/plain": [
              "   sepal length (cm)  sepal width (cm)  petal length (cm)  petal width (cm)  \\\n",
              "0                5.1               3.5                1.4               0.2   \n",
              "1                4.9               3.0                1.4               0.2   \n",
              "2                4.7               3.2                1.3               0.2   \n",
              "3                4.6               3.1                1.5               0.2   \n",
              "4                5.0               3.6                1.4               0.2   \n",
              "\n",
              "   Species  \n",
              "0        0  \n",
              "1        0  \n",
              "2        0  \n",
              "3        0  \n",
              "4        0  "
            ]
          },
          "metadata": {
            "tags": []
          },
          "execution_count": 45
        }
      ]
    },
    {
      "metadata": {
        "id": "jSq6ZhfqUrGD",
        "colab_type": "code",
        "colab": {
          "base_uri": "https://localhost:8080/",
          "height": 364
        },
        "outputId": "8cf29598-0962-4c3e-ae09-f0fc3c91526a"
      },
      "cell_type": "code",
      "source": [
        "plt.scatter(df['petal length (cm)'],df['petal width (cm)'],c=df['Species'],cmap='Accent')"
      ],
      "execution_count": 46,
      "outputs": [
        {
          "output_type": "execute_result",
          "data": {
            "text/plain": [
              "<matplotlib.collections.PathCollection at 0x7feaeb7c8630>"
            ]
          },
          "metadata": {
            "tags": []
          },
          "execution_count": 46
        },
        {
          "output_type": "display_data",
          "data": {
            "image/png": "[encoded data removed]",
            "text/plain": [
              "<matplotlib.figure.Figure at 0x7feaeb7f94a8>"
            ]
          },
          "metadata": {
            "tags": []
          }
        }
      ]
    },
    {
      "metadata": {
        "id": "fd4tj6HSdfB2",
        "colab_type": "text"
      },
      "cell_type": "markdown",
      "source": [
        "#訓練集 / 測試集 "
      ]
    },
    {
      "metadata": {
        "id": "VxUDTn6k-7uF",
        "colab_type": "code",
        "colab": {
          "base_uri": "https://localhost:8080/",
          "height": 51
        },
        "outputId": "4b248e6d-5670-4a06-b463-b63ad5e61547"
      },
      "cell_type": "code",
      "source": [
        "from sklearn.model_selection import train_test_split\n",
        "X_train, X_test, y_train, y_test = train_test_split(iris.data, iris.target, test_size=0.3) #區分訓練與測試資料\n",
        "print(X_train.shape)\n",
        "print(X_test.shape)"
      ],
      "execution_count": 47,
      "outputs": [
        {
          "output_type": "stream",
          "text": [
            "(105, 4)\n",
            "(45, 4)\n"
          ],
          "name": "stdout"
        }
      ]
    },
    {
      "metadata": {
        "id": "CPKk3Kbi_HIx",
        "colab_type": "code",
        "colab": {}
      },
      "cell_type": "code",
      "source": [
        "from sklearn.linear_model import LogisticRegression\n",
        "model = LogisticRegression()\n",
        "model.fit(X_train,y_train)\n",
        "y_test_pred = model.predict(X_test)"
      ],
      "execution_count": 0,
      "outputs": []
    },
    {
      "metadata": {
        "id": "fTKmneNhAo0t",
        "colab_type": "text"
      },
      "cell_type": "markdown",
      "source": [
        "# Confusion Matrix"
      ]
    },
    {
      "metadata": {
        "id": "yjWeTO3t_ncn",
        "colab_type": "code",
        "colab": {
          "base_uri": "https://localhost:8080/",
          "height": 85
        },
        "outputId": "d2967353-987c-4aa2-c8d2-9b5b5f612a7b"
      },
      "cell_type": "code",
      "source": [
        "from sklearn import metrics\n",
        "\n",
        "print('Accuracy:%.2f'%metrics.accuracy_score(y_test, y_test_pred))\n",
        "print(metrics.confusion_matrix(y_test, y_test_pred))"
      ],
      "execution_count": 49,
      "outputs": [
        {
          "output_type": "stream",
          "text": [
            "Accuracy:0.96\n",
            "[[14  0  0]\n",
            " [ 0 14  1]\n",
            " [ 0  1 15]]\n"
          ],
          "name": "stdout"
        }
      ]
    },
    {
      "metadata": {
        "id": "3Mza5xS__1Uj",
        "colab_type": "code",
        "colab": {
          "base_uri": "https://localhost:8080/",
          "height": 850
        },
        "outputId": "4da4fedc-87b1-48a7-c668-11481de8a13a"
      },
      "cell_type": "code",
      "source": [
        "y_test_pred = model.predict(X_test)\n",
        "y_test_pred_proba = model.predict_proba(X_test)\n",
        "print('Classification Output:\\n', y_test_pred) #分類的結果 0, 1, 2\n",
        "print('Probability Output:\\n', y_test_pred_proba) #分類的機率值，結果會依據機率最大的那一個"
      ],
      "execution_count": 50,
      "outputs": [
        {
          "output_type": "stream",
          "text": [
            "Classification Output:\n",
            " [1 2 0 2 0 0 2 1 1 0 2 1 1 1 2 1 0 1 2 2 2 0 0 0 0 2 1 2 0 0 2 1 1 1 1 1 2\n",
            " 2 2 0 1 2 0 0 2]\n",
            "Probability Output:\n",
            " [[1.82906911e-01 6.52421357e-01 1.64671732e-01]\n",
            " [1.40933837e-02 3.98408411e-01 5.87498205e-01]\n",
            " [8.58686281e-01 1.41246759e-01 6.69599634e-05]\n",
            " [4.72556776e-04 2.96810293e-01 7.02717150e-01]\n",
            " [9.18146571e-01 8.17574306e-02 9.59988964e-05]\n",
            " [8.69203310e-01 1.30496655e-01 3.00035418e-04]\n",
            " [5.41955206e-04 2.69326354e-01 7.30131691e-01]\n",
            " [2.86596304e-02 6.29862404e-01 3.41477965e-01]\n",
            " [3.39054001e-03 5.44429027e-01 4.52180433e-01]\n",
            " [8.92943554e-01 1.06870400e-01 1.86046330e-04]\n",
            " [1.41295970e-03 3.90367562e-01 6.08219478e-01]\n",
            " [1.12211774e-01 7.35327394e-01 1.52460832e-01]\n",
            " [4.75794373e-02 7.62047586e-01 1.90372976e-01]\n",
            " [4.05421595e-02 7.26887143e-01 2.32570698e-01]\n",
            " [5.22141682e-04 3.08866855e-01 6.90611004e-01]\n",
            " [3.46204069e-03 5.15154471e-01 4.81383488e-01]\n",
            " [8.04633140e-01 1.95243200e-01 1.23659426e-04]\n",
            " [4.81815102e-02 7.92117383e-01 1.59701106e-01]\n",
            " [2.47137505e-03 3.33614864e-01 6.63913761e-01]\n",
            " [1.32103453e-04 4.13402694e-01 5.86465202e-01]\n",
            " [2.22569051e-03 2.63228968e-01 7.34545342e-01]\n",
            " [8.80782727e-01 1.19021132e-01 1.96140433e-04]\n",
            " [8.92699104e-01 1.07223030e-01 7.78656957e-05]\n",
            " [9.05032926e-01 9.47736230e-02 1.93451245e-04]\n",
            " [9.58715392e-01 4.12678890e-02 1.67187079e-05]\n",
            " [1.18680008e-03 2.87802942e-01 7.11010258e-01]\n",
            " [2.46687560e-02 7.90566899e-01 1.84764345e-01]\n",
            " [3.39873308e-04 4.54188685e-01 5.45471441e-01]\n",
            " [8.12481512e-01 1.87167434e-01 3.51053912e-04]\n",
            " [8.38606746e-01 1.61137787e-01 2.55467602e-04]\n",
            " [1.67656549e-03 3.95974822e-01 6.02348612e-01]\n",
            " [4.54674672e-02 6.64980109e-01 2.89552424e-01]\n",
            " [4.81176512e-02 7.54637980e-01 1.97244368e-01]\n",
            " [7.09267134e-03 5.31145909e-01 4.61761420e-01]\n",
            " [1.55527300e-01 7.79374018e-01 6.50986822e-02]\n",
            " [1.27145457e-02 6.92796922e-01 2.94488532e-01]\n",
            " [6.81648494e-04 4.71016118e-01 5.28302234e-01]\n",
            " [1.58942310e-03 3.68266810e-01 6.30143767e-01]\n",
            " [2.59996080e-04 4.54750498e-01 5.44989506e-01]\n",
            " [8.04633140e-01 1.95243200e-01 1.23659426e-04]\n",
            " [6.60742752e-02 7.96372937e-01 1.37552787e-01]\n",
            " [1.18490746e-03 3.82590741e-01 6.16224352e-01]\n",
            " [8.90623809e-01 1.09338671e-01 3.75201777e-05]\n",
            " [8.04633140e-01 1.95243200e-01 1.23659426e-04]\n",
            " [3.74144335e-04 3.71886417e-01 6.27739439e-01]]\n"
          ],
          "name": "stdout"
        }
      ]
    },
    {
      "metadata": {
        "id": "hof3ukLBBLMd",
        "colab_type": "text"
      },
      "cell_type": "markdown",
      "source": [
        "# Tuning Logistic Regression - C Parameter"
      ]
    },
    {
      "metadata": {
        "id": "A5zo5br0AS4G",
        "colab_type": "code",
        "colab": {
          "base_uri": "https://localhost:8080/",
          "height": 221
        },
        "outputId": "7f0f6a01-dcb6-43b6-a78a-575e28f52d27"
      },
      "cell_type": "code",
      "source": [
        "model = LogisticRegression(C=1.0) #Tune C Parameter 和linear regression的alpha不一樣的是C值越大對weight的控制力越弱\n",
        "model.fit(X_train,y_train)\n",
        "y_train_pred = model.predict(X_train)\n",
        "y_test_pred = model.predict(X_test)\n",
        "print('train evaluation---------------------------------')\n",
        "print('accuracy:%.2f'%metrics.accuracy_score(y_train, y_train_pred))\n",
        "print('confusion matirx:\\n', metrics.confusion_matrix(y_train, y_train_pred))\n",
        "print('test evaluation---------------------------------')\n",
        "print('accuracy:%.2f'%metrics.accuracy_score(y_test, y_test_pred))\n",
        "print('confusion matirx:\\n', metrics.confusion_matrix(y_test, y_test_pred))"
      ],
      "execution_count": 51,
      "outputs": [
        {
          "output_type": "stream",
          "text": [
            "train evaluation---------------------------------\n",
            "accuracy:0.96\n",
            "confusion matirx:\n",
            " [[36  0  0]\n",
            " [ 0 32  3]\n",
            " [ 0  1 33]]\n",
            "test evaluation---------------------------------\n",
            "accuracy:0.96\n",
            "confusion matirx:\n",
            " [[14  0  0]\n",
            " [ 0 14  1]\n",
            " [ 0  1 15]]\n"
          ],
          "name": "stdout"
        }
      ]
    },
    {
      "metadata": {
        "id": "qCKvWLQBYl6G",
        "colab_type": "code",
        "colab": {
          "base_uri": "https://localhost:8080/",
          "height": 221
        },
        "outputId": "cf7ca0b4-8966-43a2-9c37-929a49c36500"
      },
      "cell_type": "code",
      "source": [
        "model = LogisticRegression(C=0.2) #Tune C Parameter C值越小對weight的控制力越強\n",
        "model.fit(X_train,y_train)\n",
        "y_train_pred = model.predict(X_train)\n",
        "y_test_pred = model.predict(X_test)\n",
        "print('train evaluation---------------------------------')\n",
        "print('accuracy:%.2f'%metrics.accuracy_score(y_train, y_train_pred))\n",
        "print('confusion matirx:\\n', metrics.confusion_matrix(y_train, y_train_pred))\n",
        "print('test evaluation---------------------------------')\n",
        "print('accuracy:%.2f'%metrics.accuracy_score(y_test, y_test_pred))\n",
        "print('confusion matirx:\\n', metrics.confusion_matrix(y_test, y_test_pred))"
      ],
      "execution_count": 52,
      "outputs": [
        {
          "output_type": "stream",
          "text": [
            "train evaluation---------------------------------\n",
            "accuracy:0.92\n",
            "confusion matirx:\n",
            " [[36  0  0]\n",
            " [ 0 27  8]\n",
            " [ 0  0 34]]\n",
            "test evaluation---------------------------------\n",
            "accuracy:0.93\n",
            "confusion matirx:\n",
            " [[14  0  0]\n",
            " [ 0 12  3]\n",
            " [ 0  0 16]]\n"
          ],
          "name": "stdout"
        }
      ]
    },
    {
      "metadata": {
        "id": "VdVU6Sh5EXYI",
        "colab_type": "text"
      },
      "cell_type": "markdown",
      "source": [
        "# Tuning Logistic Regression - Multi_Class"
      ]
    },
    {
      "metadata": {
        "id": "ngqXIf3CC-TO",
        "colab_type": "code",
        "colab": {
          "base_uri": "https://localhost:8080/",
          "height": 221
        },
        "outputId": "ddab5737-3b3f-49b1-dcbb-e474849323c2"
      },
      "cell_type": "code",
      "source": [
        "model = LogisticRegression(solver='sag', multi_class='multinomial',max_iter=3000) #‘multinomial’: 會考慮到整體的分佈，較準但效率較低。\n",
        "model.fit(X_train,y_train)\n",
        "y_train_pred = model.predict(X_train)\n",
        "y_test_pred = model.predict(X_test)\n",
        "print('train evaluation---------------------------------')\n",
        "print('accuracy:%.2f'%metrics.accuracy_score(y_train, y_train_pred))\n",
        "print('confusion matirx:\\n', metrics.confusion_matrix(y_train, y_train_pred))\n",
        "print('test evaluation---------------------------------')\n",
        "print('accuracy:%.2f'%metrics.accuracy_score(y_test, y_test_pred))\n",
        "print('confusion matirx:\\n', metrics.confusion_matrix(y_test, y_test_pred))"
      ],
      "execution_count": 53,
      "outputs": [
        {
          "output_type": "stream",
          "text": [
            "train evaluation---------------------------------\n",
            "accuracy:0.97\n",
            "confusion matirx:\n",
            " [[36  0  0]\n",
            " [ 0 33  2]\n",
            " [ 0  1 33]]\n",
            "test evaluation---------------------------------\n",
            "accuracy:0.98\n",
            "confusion matirx:\n",
            " [[14  0  0]\n",
            " [ 0 15  0]\n",
            " [ 0  1 15]]\n"
          ],
          "name": "stdout"
        }
      ]
    },
    {
      "metadata": {
        "id": "m3Lje-9eZFce",
        "colab_type": "code",
        "colab": {
          "base_uri": "https://localhost:8080/",
          "height": 221
        },
        "outputId": "0c3bb807-9111-454d-928a-d2bbae438c30"
      },
      "cell_type": "code",
      "source": [
        "model = LogisticRegression(solver='sag', multi_class='ovr',max_iter=3000) #‘ovr’: 視多元分類為二元分類 (default)\n",
        "model.fit(X_train,y_train)\n",
        "y_train_pred = model.predict(X_train)\n",
        "y_test_pred = model.predict(X_test)\n",
        "print('train evaluation---------------------------------')\n",
        "print('accuracy:%.2f'%metrics.accuracy_score(y_train, y_train_pred))\n",
        "print('confusion matirx:\\n', metrics.confusion_matrix(y_train, y_train_pred))\n",
        "print('test evaluation---------------------------------')\n",
        "print('accuracy:%.2f'%metrics.accuracy_score(y_test, y_test_pred))\n",
        "print('confusion matirx:\\n', metrics.confusion_matrix(y_test, y_test_pred))"
      ],
      "execution_count": 54,
      "outputs": [
        {
          "output_type": "stream",
          "text": [
            "train evaluation---------------------------------\n",
            "accuracy:0.95\n",
            "confusion matirx:\n",
            " [[36  0  0]\n",
            " [ 0 32  3]\n",
            " [ 0  2 32]]\n",
            "test evaluation---------------------------------\n",
            "accuracy:0.96\n",
            "confusion matirx:\n",
            " [[14  0  0]\n",
            " [ 0 14  1]\n",
            " [ 0  1 15]]\n"
          ],
          "name": "stdout"
        }
      ]
    }
  ]
}